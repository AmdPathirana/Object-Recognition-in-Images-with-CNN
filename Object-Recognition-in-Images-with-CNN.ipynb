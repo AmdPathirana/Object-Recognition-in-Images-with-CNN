{
 "cells": [
  {
   "cell_type": "markdown",
   "id": "7e414675",
   "metadata": {},
   "source": [
    "# Object-Recognition-in-Images-with-CNN"
   ]
  },
  {
   "cell_type": "markdown",
   "id": "cb5e5b3d",
   "metadata": {},
   "source": [
    "Installation and the Set up "
   ]
  },
  {
   "cell_type": "code",
   "execution_count": 1,
   "id": "df659b33",
   "metadata": {},
   "outputs": [
    {
     "name": "stdout",
     "output_type": "stream",
     "text": [
      "Requirement already satisfied: tensorflow in /Users/amodpathirana/opt/anaconda3/lib/python3.7/site-packages (2.0.0)\n",
      "Requirement already satisfied: astor>=0.6.0 in /Users/amodpathirana/opt/anaconda3/lib/python3.7/site-packages (from tensorflow) (0.8.1)\n",
      "Requirement already satisfied: gast==0.2.2 in /Users/amodpathirana/opt/anaconda3/lib/python3.7/site-packages (from tensorflow) (0.2.2)\n",
      "Requirement already satisfied: keras-preprocessing>=1.0.5 in /Users/amodpathirana/opt/anaconda3/lib/python3.7/site-packages (from tensorflow) (1.1.2)\n",
      "Requirement already satisfied: absl-py>=0.7.0 in /Users/amodpathirana/opt/anaconda3/lib/python3.7/site-packages (from tensorflow) (1.3.0)\n",
      "Requirement already satisfied: keras-applications>=1.0.8 in /Users/amodpathirana/opt/anaconda3/lib/python3.7/site-packages (from tensorflow) (1.0.8)\n",
      "Requirement already satisfied: tensorboard<2.1.0,>=2.0.0 in /Users/amodpathirana/opt/anaconda3/lib/python3.7/site-packages (from tensorflow) (2.0.0)\n",
      "Requirement already satisfied: termcolor>=1.1.0 in /Users/amodpathirana/opt/anaconda3/lib/python3.7/site-packages (from tensorflow) (2.1.0)\n",
      "Requirement already satisfied: grpcio>=1.8.6 in /Users/amodpathirana/opt/anaconda3/lib/python3.7/site-packages (from tensorflow) (1.42.0)\n",
      "Requirement already satisfied: protobuf>=3.6.1 in /Users/amodpathirana/opt/anaconda3/lib/python3.7/site-packages (from tensorflow) (3.19.1)\n",
      "Requirement already satisfied: numpy<2.0,>=1.16.0 in /Users/amodpathirana/opt/anaconda3/lib/python3.7/site-packages (from tensorflow) (1.21.5)\n",
      "Requirement already satisfied: wheel>=0.26 in /Users/amodpathirana/opt/anaconda3/lib/python3.7/site-packages (from tensorflow) (0.38.4)\n",
      "Requirement already satisfied: wrapt>=1.11.1 in /Users/amodpathirana/opt/anaconda3/lib/python3.7/site-packages (from tensorflow) (1.12.1)\n",
      "Requirement already satisfied: opt-einsum>=2.3.2 in /Users/amodpathirana/opt/anaconda3/lib/python3.7/site-packages (from tensorflow) (3.3.0)\n",
      "Requirement already satisfied: google-pasta>=0.1.6 in /Users/amodpathirana/opt/anaconda3/lib/python3.7/site-packages (from tensorflow) (0.2.0)\n",
      "Requirement already satisfied: six>=1.10.0 in /Users/amodpathirana/opt/anaconda3/lib/python3.7/site-packages (from tensorflow) (1.12.0)\n",
      "Requirement already satisfied: tensorflow-estimator<2.1.0,>=2.0.0 in /Users/amodpathirana/opt/anaconda3/lib/python3.7/site-packages (from tensorflow) (2.0.0)\n",
      "Requirement already satisfied: h5py in /Users/amodpathirana/opt/anaconda3/lib/python3.7/site-packages (from keras-applications>=1.0.8->tensorflow) (2.10.0)\n",
      "Requirement already satisfied: werkzeug>=0.11.15 in /Users/amodpathirana/opt/anaconda3/lib/python3.7/site-packages (from tensorboard<2.1.0,>=2.0.0->tensorflow) (2.0.3)\n",
      "Requirement already satisfied: setuptools>=41.0.0 in /Users/amodpathirana/opt/anaconda3/lib/python3.7/site-packages (from tensorboard<2.1.0,>=2.0.0->tensorflow) (65.6.0)\n",
      "Requirement already satisfied: markdown>=2.6.8 in /Users/amodpathirana/opt/anaconda3/lib/python3.7/site-packages (from tensorboard<2.1.0,>=2.0.0->tensorflow) (3.3.4)\n",
      "Requirement already satisfied: importlib-metadata in /Users/amodpathirana/opt/anaconda3/lib/python3.7/site-packages (from markdown>=2.6.8->tensorboard<2.1.0,>=2.0.0->tensorflow) (4.11.3)\n",
      "Requirement already satisfied: zipp>=0.5 in /Users/amodpathirana/opt/anaconda3/lib/python3.7/site-packages (from importlib-metadata->markdown>=2.6.8->tensorboard<2.1.0,>=2.0.0->tensorflow) (3.7.0)\n",
      "Requirement already satisfied: typing-extensions>=3.6.4 in /Users/amodpathirana/opt/anaconda3/lib/python3.7/site-packages (from importlib-metadata->markdown>=2.6.8->tensorboard<2.1.0,>=2.0.0->tensorflow) (4.1.1)\n"
     ]
    }
   ],
   "source": [
    "!pip install tensorflow "
   ]
  },
  {
   "cell_type": "code",
   "execution_count": 2,
   "id": "f41eca2f",
   "metadata": {},
   "outputs": [
    {
     "name": "stdout",
     "output_type": "stream",
     "text": [
      "Tensorflow version 2.0.0\n"
     ]
    }
   ],
   "source": [
    "import tensorflow as tf\n",
    "print(\"Tensorflow version {}\".format(tf.__version__))"
   ]
  },
  {
   "cell_type": "code",
   "execution_count": 3,
   "id": "48bf5e87",
   "metadata": {},
   "outputs": [],
   "source": [
    "import numpy as np\n",
    "import pandas as pd \n",
    "import matplotlib.pyplot as plt "
   ]
  },
  {
   "cell_type": "markdown",
   "id": "81aa40a2",
   "metadata": {},
   "source": [
    "Import data set "
   ]
  },
  {
   "cell_type": "code",
   "execution_count": 4,
   "id": "bae568aa",
   "metadata": {},
   "outputs": [],
   "source": [
    "from tensorflow.keras.datasets import cifar10"
   ]
  },
  {
   "cell_type": "code",
   "execution_count": 6,
   "id": "306fefc6",
   "metadata": {},
   "outputs": [
    {
     "name": "stdout",
     "output_type": "stream",
     "text": [
      "Downloading data from https://www.cs.toronto.edu/~kriz/cifar-10-python.tar.gz\n",
      "170500096/170498071 [==============================] - 159s 1us/step\n"
     ]
    }
   ],
   "source": [
    "# loading the datasets \n",
    "(x_train, y_train), (x_test, y_test) = cifar10.load_data()"
   ]
  },
  {
   "cell_type": "code",
   "execution_count": 9,
   "id": "34925b66",
   "metadata": {},
   "outputs": [
    {
     "name": "stdout",
     "output_type": "stream",
     "text": [
      "['0:airplane', '1:automobile', '2:bird', '3:cat', '4:deer', '5:dog', '6:frog', '7:horse', '8:ship', '9:truck']\n"
     ]
    }
   ],
   "source": [
    "class_names = ['0:airplane', '1:automobile', '2:bird', '3:cat', '4:deer', '5:dog', '6:frog', '7:horse', '8:ship', '9:truck']\n",
    "print(class_names)"
   ]
  },
  {
   "cell_type": "code",
   "execution_count": 11,
   "id": "9d3f2071",
   "metadata": {},
   "outputs": [
    {
     "data": {
      "text/plain": [
       "(255, 0, 120.70756512369792)"
      ]
     },
     "execution_count": 11,
     "metadata": {},
     "output_type": "execute_result"
    }
   ],
   "source": [
    "x_train.max(), x_train.min(), x_train.mean()"
   ]
  },
  {
   "cell_type": "markdown",
   "id": "8f3940d5",
   "metadata": {},
   "source": [
    "So, x_train values are spred in between the 0 and 255 wiht the mean 120.71 "
   ]
  },
  {
   "cell_type": "code",
   "execution_count": 15,
   "id": "bd9e9f33",
   "metadata": {},
   "outputs": [
    {
     "data": {
      "text/plain": [
       "(0, 9, 4.5)"
      ]
     },
     "execution_count": 15,
     "metadata": {},
     "output_type": "execute_result"
    }
   ],
   "source": [
    "y_train.min(), y_test.max(), y_train.mean()"
   ]
  },
  {
   "cell_type": "code",
   "execution_count": 16,
   "id": "445b8458",
   "metadata": {},
   "outputs": [],
   "source": [
    "# Normalized the x values (then can perfom the cacluations speedly)\n",
    "x_train = x_train/255.0\n",
    "x_test = x_test/255.0 "
   ]
  },
  {
   "cell_type": "code",
   "execution_count": 17,
   "id": "5c399f01",
   "metadata": {},
   "outputs": [
    {
     "data": {
      "text/plain": [
       "(0.0, 1.0, 0.4733630004850874)"
      ]
     },
     "execution_count": 17,
     "metadata": {},
     "output_type": "execute_result"
    }
   ],
   "source": [
    "# now check the new x values \n",
    "x_train.min(), x_train.max(), x_train.mean()"
   ]
  },
  {
   "cell_type": "code",
   "execution_count": 20,
   "id": "8ae1708e",
   "metadata": {},
   "outputs": [
    {
     "data": {
      "text/plain": [
       "(0.0, 1.0, 0.47658492059844665)"
      ]
     },
     "execution_count": 20,
     "metadata": {},
     "output_type": "execute_result"
    }
   ],
   "source": [
    "x_test.min(), x_test.max(), x_test.mean()"
   ]
  },
  {
   "cell_type": "code",
   "execution_count": 22,
   "id": "8aa096b6",
   "metadata": {},
   "outputs": [
    {
     "data": {
      "text/plain": [
       "((50000, 32, 32, 3), (10000, 32, 32, 3))"
      ]
     },
     "execution_count": 22,
     "metadata": {},
     "output_type": "execute_result"
    }
   ],
   "source": [
    "# check the train and test dta shapes \n",
    "x_train.shape, x_test.shape"
   ]
  },
  {
   "cell_type": "code",
   "execution_count": 32,
   "id": "667db31f",
   "metadata": {},
   "outputs": [
    {
     "data": {
      "text/plain": [
       "'5:dog'"
      ]
     },
     "execution_count": 32,
     "metadata": {},
     "output_type": "execute_result"
    },
    {
     "data": {
      "image/png": "[encoded data removed]",
      "text/plain": [
       "<Figure size 432x288 with 1 Axes>"
      ]
     },
     "metadata": {
      "needs_background": "light"
     },
     "output_type": "display_data"
    }
   ],
   "source": [
    "# check random image \n",
    "plt.imshow(x_train[40])\n",
    "# get the value of index 40 from y_train\n",
    "z=int(y_train[40])\n",
    "# get the value of from the clas_names list\n",
    "class_names[z]"
   ]
  },
  {
   "cell_type": "code",
   "execution_count": null,
   "id": "0c1f9fad",
   "metadata": {},
   "outputs": [],
   "source": []
  }
 ],
 "metadata": {
  "kernelspec": {
   "display_name": "Python 3 (ipykernel)",
   "language": "python",
   "name": "python3"
  },
  "language_info": {
   "codemirror_mode": {
    "name": "ipython",
    "version": 3
   },
   "file_extension": ".py",
   "mimetype": "text/x-python",
   "name": "python",
   "nbconvert_exporter": "python",
   "pygments_lexer": "ipython3",
   "version": "3.7.13"
  }
 },
 "nbformat": 4,
 "nbformat_minor": 5
}
